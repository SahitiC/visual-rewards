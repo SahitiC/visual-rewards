{
 "cells": [
  {
   "cell_type": "code",
   "execution_count": 1,
   "id": "7aba6d76",
   "metadata": {},
   "outputs": [],
   "source": [
    "import numpy as np\n",
    "import matplotlib.pyplot as plt\n",
    "import pandas as pd\n",
    "import seaborn as sns\n",
    "import os\n",
    "import scipy as sp"
   ]
  },
  {
   "cell_type": "code",
   "execution_count": 2,
   "id": "f8583b54",
   "metadata": {},
   "outputs": [],
   "source": [
    "def generate_reversal_sequence(stable_block_length, volatile_block_length, block_number):\n",
    "    \n",
    "    \"\"\"\n",
    "    Return a sequence of trials with the correct option reversing in a probabilistic fashion. \n",
    "    \"\"\"\n",
    "\n",
    "    volatile_size = int(volatile_block_length/block_number) # 'average' volatile block size\n",
    "    volatile_sequence = np.full( volatile_block_length, 0 )\n",
    "\n",
    "    # stable block\n",
    "    cue = np.random.choice([0, 1], p = [0.5, 0.5]) # randomly pick cue that is correct for stable block \n",
    "    stable_block = np.full(stable_block_length, cue)    \n",
    "    \n",
    "    # generate volatile sequence\n",
    "    start = 0\n",
    "    \n",
    "    for i_reversal in range(block_number-1):\n",
    "\n",
    "        i = i_reversal + 1\n",
    "        reversal_point = np.random.randint( i* volatile_size-10, i* volatile_size+10 ) # pick reversal point\n",
    "        cue = 0 if cue == 1 else 1 # reverse cue\n",
    "        volatile_sequence[start:reversal_point] = cue # fill the block with the correct cue\n",
    "        start = reversal_point # shift reversal point\n",
    "        \n",
    "    cue = 0 if cue == 1 else 1 \n",
    "    volatile_sequence[start:volatile_block_length] = cue \n",
    "\n",
    "    return stable_block, volatile_sequence"
   ]
  },
  {
   "cell_type": "code",
   "execution_count": 3,
   "id": "6e81174b",
   "metadata": {},
   "outputs": [],
   "source": [
    "def generate_reward_sequence(cue_sequence, p_reward):\n",
    "    \n",
    "    \"\"\"\n",
    "    Return a sequence of rewards for the two options based on the sequence of 'correct' options \n",
    "    \"\"\"   \n",
    "    \n",
    "    reward_sequence = np.full( (np.size(cue_sequence), 2), 30) # initialising reward sequence\n",
    "\n",
    "    reward_sequence[np.where(cue_sequence == 1), 1] = np.random.binomial( 1, p_reward, np.size(np.where(cue_sequence == 1)) )\n",
    "    reward_sequence[np.where(cue_sequence == 1), 0] = 1-reward_sequence[np.where(cue_sequence == 1), 1] \n",
    "\n",
    "    reward_sequence[np.where(cue_sequence == 0), 0] = np.random.binomial( 1, p_reward, np.size(np.where(cue_sequence == 0)) )\n",
    "    reward_sequence[np.where(cue_sequence == 0), 1] = 1-reward_sequence[np.where(cue_sequence == 0), 0] \n",
    "\n",
    "    return reward_sequence"
   ]
  },
  {
   "cell_type": "code",
   "execution_count": 4,
   "id": "1c599841",
   "metadata": {},
   "outputs": [],
   "source": [
    "# rescorla wagner model\n",
    "\n",
    "class RescorlaWagner():\n",
    "    def __init__(self, num_inputs, learning_rate, inv_temperature):\n",
    "        self.num_inputs = num_inputs\n",
    "        self.learning_rate = learning_rate\n",
    "        self.inv_temperature = inv_temperature\n",
    "        \n",
    "        self.value = np.full((num_inputs), 0.0)\n",
    "        \n",
    "    def choice(self):\n",
    "        \n",
    "        Q_ = self.inv_temperature * self.value\n",
    "        logp_action = Q_ - sp.special.logsumexp(Q_)\n",
    "        prob_choice = np.exp(logp_action)\n",
    "        choice = np.random.choice( np.arange(self.num_inputs) , p = prob_choice )\n",
    "        \n",
    "        return choice\n",
    "        \n",
    "    def learn(self, choice, targets):\n",
    "        self.value[choice] = self.value[choice] + self.learning_rate * (targets[choice] - self.value[choice]) \n",
    "  "
   ]
  },
  {
   "cell_type": "code",
   "execution_count": 5,
   "id": "3c125c7c",
   "metadata": {},
   "outputs": [],
   "source": [
    "def sigmoid(x):\n",
    "    s = 1/(1+np.exp(-x))\n",
    "    return s\n",
    "class KalmanFilter():\n",
    "    \n",
    "    def __init__(self, num_inputs, inv_temperature, q, q1, q2):\n",
    "        \n",
    "        self.num_inputs = num_inputs\n",
    "        self.reward_variance = q\n",
    "        self.inv_temperature = inv_temperature        \n",
    "        self.value = np.zeros((num_inputs, 1))\n",
    "        self.posterior_variance = np.asarray([[q1],[q2]]) #sigma_rew * np.eye(num_inputs)\n",
    "        self.alpha = 0\n",
    "        \n",
    "    # TODO implement this function\n",
    "    def choice(self):\n",
    "        \n",
    "        Q_ = self.inv_temperature * self.value.flatten()\n",
    "        logp_action = Q_ - sp.special.logsumexp(Q_)\n",
    "        prob_choice = np.exp(logp_action)\n",
    "        choice = np.random.choice( np.arange(self.num_inputs) , p = prob_choice )\n",
    "        return choice\n",
    "        \n",
    "    # TODO implement this function\n",
    "    def learn(self, choice, targets): \n",
    "        posterior_variance=self.posterior_variance\n",
    "        reward_variance=self.reward_variance\n",
    "        self.alpha = posterior_variance[choice] / (posterior_variance[choice] + reward_variance)\n",
    "        moment_match_alpha = np.sqrt(self.posterior_variance[choice]) # moment matching as suggested by Piray (ref from Mackey algorithm)\n",
    "        self.value[choice] = self.value[choice] + moment_match_alpha * (targets[choice] - sigmoid(self.value[choice]))\n",
    "        self.posterior_variance[choice] = posterior_variance[choice] - self.alpha * posterior_variance[choice] "
   ]
  },
  {
   "cell_type": "code",
   "execution_count": 6,
   "id": "394c9b6c",
   "metadata": {},
   "outputs": [],
   "source": [
    "# simulate choices based on Kalman Filter\n",
    "\n",
    "def predict_KF(N_trials, reward_sequence, inv_temperature, sigma_rew, sigma_1, sigma_2):\n",
    "\n",
    "    performance_run = []\n",
    "    \n",
    "    prediction = np.zeros((N_trials, 2)) # choices = 0 or 1\n",
    "    posterior_variance = np.zeros((N_trials, 2)) # choices = 0 or 1\n",
    "\n",
    "    \n",
    "    model = KalmanFilter(num_inputs=2, inv_temperature=inv_temperature,  q=sigma_rew, q1=sigma_1, q2=sigma_2)\n",
    "\n",
    "    for i_trials in range(N_trials):\n",
    "\n",
    "        choice = model.choice()\n",
    "        rewards_arms = reward_sequence[i_trials, :]\n",
    "        #print(rewards_arms)\n",
    "        model.learn(choice, rewards_arms)\n",
    "        #print(model.value)\n",
    "        prediction[i_trials,0] = model.value[0]\n",
    "        prediction[i_trials,1] = model.value[1]\n",
    "        posterior_variance[i_trials,:]=model.posterior_variance.flatten()\n",
    "    \n",
    "    return prediction,posterior_variance"
   ]
  },
  {
   "cell_type": "code",
   "execution_count": 7,
   "id": "39452860",
   "metadata": {},
   "outputs": [
    {
     "ename": "NameError",
     "evalue": "name 'simulate_choices_RW' is not defined",
     "output_type": "error",
     "traceback": [
      "\u001b[0;31m---------------------------------------------------------------------------\u001b[0m",
      "\u001b[0;31mNameError\u001b[0m                                 Traceback (most recent call last)",
      "Cell \u001b[0;32mIn[7], line 19\u001b[0m\n\u001b[1;32m     17\u001b[0m plt\u001b[39m.\u001b[39mscatter(np\u001b[39m.\u001b[39mlinspace(\u001b[39m0\u001b[39m,\u001b[39m250\u001b[39m,\u001b[39m250\u001b[39m), reward_sequence[:,\u001b[39m1\u001b[39m], label\u001b[39m=\u001b[39m\u001b[39m'\u001b[39m\u001b[39mrewards\u001b[39m\u001b[39m'\u001b[39m)\n\u001b[1;32m     18\u001b[0m \u001b[39m# example choices\u001b[39;00m\n\u001b[0;32m---> 19\u001b[0m choices \u001b[39m=\u001b[39m  simulate_choices_RW(stable_block_length\u001b[39m+\u001b[39mvolatile_block_length, reward_sequence, alpha\u001b[39m=\u001b[39m\u001b[39m0.6\u001b[39m, beta\u001b[39m=\u001b[39m\u001b[39m1\u001b[39m)\n\u001b[1;32m     20\u001b[0m plt\u001b[39m.\u001b[39mscatter(np\u001b[39m.\u001b[39mlinspace(\u001b[39m0\u001b[39m,\u001b[39m250\u001b[39m, \u001b[39m250\u001b[39m), choices, label\u001b[39m=\u001b[39m\u001b[39m'\u001b[39m\u001b[39mchoices\u001b[39m\u001b[39m'\u001b[39m)\n\u001b[1;32m     21\u001b[0m plt\u001b[39m.\u001b[39mlegend()\n",
      "\u001b[0;31mNameError\u001b[0m: name 'simulate_choices_RW' is not defined"
     ]
    },
    {
     "data": {
      "image/png": "[encoded data removed]",
      "text/plain": [
       "<Figure size 900x400 with 1 Axes>"
      ]
     },
     "metadata": {},
     "output_type": "display_data"
    }
   ],
   "source": [
    "# an example sequence\n",
    "\n",
    "stable_block_length = 50\n",
    "volatile_block_length = 200 # no. of trials\n",
    "block_number = 5\n",
    "p_reward_volatile = 0.8 # probability of reward in stable block \n",
    "p_reward_stable = 0.8 # probability of reward in volatile block\n",
    "\n",
    "stable_block, volatile_sequence = generate_reversal_sequence(stable_block_length, volatile_block_length, block_number)\n",
    "stable_reward = generate_reward_sequence(stable_block, p_reward_stable)\n",
    "volatile_reward = generate_reward_sequence(volatile_sequence, p_reward_volatile)\n",
    "\n",
    "cue_sequence = np.append(stable_block, volatile_sequence)\n",
    "reward_sequence = np.append(stable_reward, volatile_reward, axis=0)\n",
    "plt.figure(figsize=(9,4))\n",
    "plt.plot(cue_sequence)\n",
    "plt.scatter(np.linspace(0,250,250), reward_sequence[:,1], label='rewards')\n",
    "# example choices\n",
    "choices =  simulate_choices_RW(stable_block_length+volatile_block_length, reward_sequence, alpha=0.6, beta=1)\n",
    "plt.scatter(np.linspace(0,250, 250), choices, label='choices')\n",
    "plt.legend()"
   ]
  },
  {
   "cell_type": "code",
   "execution_count": null,
   "id": "52d056a9",
   "metadata": {},
   "outputs": [],
   "source": [
    "plt.plot(reward_sequence[:,0])"
   ]
  },
  {
   "cell_type": "code",
   "execution_count": 9,
   "id": "f3a6d8ea",
   "metadata": {},
   "outputs": [
    {
     "data": {
      "text/plain": [
       "(250, 2)"
      ]
     },
     "execution_count": 9,
     "metadata": {},
     "output_type": "execute_result"
    }
   ],
   "source": [
    "reward_sequence.shape"
   ]
  },
  {
   "cell_type": "code",
   "execution_count": null,
   "id": "99935f50",
   "metadata": {},
   "outputs": [],
   "source": [
    "test_prediction, posterior_variance=predict_KF(250,reward_sequence,1,1,0.1,0.1)\n",
    "plt.plot(test_prediction)"
   ]
  },
  {
   "cell_type": "code",
   "execution_count": null,
   "id": "aae41cfb",
   "metadata": {},
   "outputs": [],
   "source": [
    "# simulate choices based on rescorla wagner model\n",
    "\n",
    "def simulate_choices_RW(N_trials, reward_sequence, alpha, beta):\n",
    "\n",
    "    performance_run = []\n",
    "    \n",
    "    choices = np.full(N_trials, 0) # choices = 0 or 1\n",
    "    \n",
    "    model = RescorlaWagner(num_inputs=2, learning_rate=alpha, inv_temperature=beta)\n",
    "\n",
    "    for i_trials in range(N_trials):\n",
    "\n",
    "        choice = model.choice()\n",
    "        rewards_arms = reward_sequence[i_trials, :]\n",
    "        model.learn(choice, rewards_arms)\n",
    "        choices[i_trials] = choice\n",
    "    \n",
    "    return choices"
   ]
  },
  {
   "cell_type": "code",
   "execution_count": null,
   "id": "5241024e",
   "metadata": {},
   "outputs": [],
   "source": [
    "# calculate likelihood\n",
    "\n",
    "def calculate_likelihood_RW(params, choices, reward_sequence):\n",
    "    \n",
    "    alpha, beta = params\n",
    "\n",
    "    likelihood = np.full( len(choices), 0.0)\n",
    "\n",
    "    Q = np.full((2), 0.0) # num_inputs = 2\n",
    "\n",
    "    for i_trials in range(len(choices)):\n",
    "\n",
    "        choice = choices[i_trials]\n",
    "        targets = reward_sequence[i_trials, :]\n",
    "        Q_ = beta * Q\n",
    "        logp_action = Q_ - sp.special.logsumexp(Q_)\n",
    "        prob_choice = np.exp(logp_action)\n",
    "        likelihood[i_trials] = prob_choice[choice]\n",
    "        Q[choice] = Q[choice] + alpha * (targets[choice] - Q[choice])\n",
    "            \n",
    "    return -1*np.sum(np.log(likelihood+0.01))"
   ]
  },
  {
   "cell_type": "code",
   "execution_count": null,
   "id": "130bc336",
   "metadata": {},
   "outputs": [],
   "source": [
    "%%time\n",
    "# example parameter recovery : grid search\n",
    "choices = simulate_choices_RW(stable_block_length+volatile_block_length, reward_sequence, alpha=0.8, beta=1)\n",
    "\n",
    "alpha_grid = np.linspace(0.01, 0.99, 30)\n",
    "beta_grid = np.linspace(0.01, 10, 30)\n",
    "negloglik_grid = np.full((30,30), 0.0)\n",
    "\n",
    "for i_alpha, alpha in enumerate(alpha_grid):\n",
    "    \n",
    "    for i_beta, beta in enumerate(beta_grid):\n",
    "        \n",
    "        negloglik_grid[i_alpha, i_beta] = calculate_likelihood_RW((alpha, beta), choices, reward_sequence)\n",
    "        \n",
    "# sns.heatmap(negloglik_grid, xticklabels = np.round(beta_grid,2), yticklabels = np.round(alpha_grid, 2) )\n",
    "idx = np.where(negloglik_grid == np.min(negloglik_grid))\n",
    "print(alpha_grid[idx[0]])\n",
    "print(beta_grid[idx[1]])"
   ]
  },
  {
   "cell_type": "code",
   "execution_count": null,
   "id": "f6712f87",
   "metadata": {},
   "outputs": [],
   "source": [
    "%%time\n",
    "# example parameter recovery : gradient descent\n",
    "choices = simulate_choices_RW(stable_block_length+volatile_block_length, reward_sequence, alpha=0.8, beta=1)\n",
    "\n",
    "res_nll = np.inf\n",
    "\n",
    "for i in range(10):\n",
    "        \n",
    "    init_guess = ( np.random.uniform(0.0, 1.0),  np.random.exponential(1))\n",
    "    result = sp.optimize.minimize( calculate_likelihood_RW, init_guess, (choices, reward_sequence), bounds=((0,1),(0.01,50)) )\n",
    "\n",
    "    if result.fun < res_nll:\n",
    "        res_nll = result.fun\n",
    "        params_est = result.x\n",
    "            \n",
    "print(params_est)"
   ]
  },
  {
   "cell_type": "code",
   "execution_count": null,
   "id": "afacbfd7",
   "metadata": {},
   "outputs": [],
   "source": [
    "%%time\n",
    "# param recovery with likelihood maximisation for a range of alpha and beta\n",
    "\n",
    "stable_block_length = 50\n",
    "volatile_block_length = 200 # no. of trials\n",
    "block_number = 5\n",
    "p_reward_volatile = 0.8 # probability of reward in stable block \n",
    "p_reward_stable = 0.8 # probability of reward in volatile block\n",
    "\n",
    "N_iter = 200 # number of iterations of parameter recovery\n",
    "params_estimated = np.full((N_iter, 2), 0.0)\n",
    "params_true = np.full((N_iter,2), 0.0)\n",
    "\n",
    "for i_param in range(N_iter):\n",
    "    \n",
    "        alpha_true = np.random.uniform(0.0, 1.0)\n",
    "        beta_true = np.random.exponential(10) # exponential distribution for beta with lambda = 10 or scale = 0.1 following Wilson and Collins 2019\n",
    "        \n",
    "        # simulate task\n",
    "        stable_block, volatile_sequence = generate_reversal_sequence(stable_block_length, volatile_block_length, block_number)\n",
    "        stable_reward = generate_reward_sequence(stable_block, p_reward_stable)\n",
    "        volatile_reward = generate_reward_sequence(volatile_sequence, p_reward_volatile)\n",
    "\n",
    "        cue_sequence = np.append(stable_block, volatile_sequence)\n",
    "        reward_sequence = np.append(stable_reward, volatile_reward, axis=0)\n",
    "        \n",
    "        # simulate choices\n",
    "        choices = simulate_choices_RW(stable_block_length+volatile_block_length, reward_sequence, alpha_true, beta_true)\n",
    "        \n",
    "        res_nll = np.inf\n",
    "\n",
    "        for i in range(10):\n",
    "\n",
    "            init_guess = ( np.random.uniform(0.0, 1.0),  np.random.exponential(1))\n",
    "            result = sp.optimize.minimize( calculate_likelihood_RW, init_guess, (choices, reward_sequence), bounds=((0,1),(0.01,20)) )\n",
    "\n",
    "            if result.fun < res_nll:\n",
    "                res_nll = result.fun\n",
    "                params_est = result.x\n",
    "        \n",
    "        params_estimated[i_param, :] = params_est\n",
    "        params_true[i_param, :] = [alpha_true, beta_true]\n"
   ]
  },
  {
   "cell_type": "code",
   "execution_count": null,
   "id": "dbbdf096",
   "metadata": {},
   "outputs": [],
   "source": [
    "#ax.set_prop_cycle('color',plt.cm.Blues(np.linspace(0.2,1,7)))\n",
    "fig, ax = plt.subplots()\n",
    "\n",
    "for i_alpha_true, alpha_true in enumerate(params_true[:,0]):\n",
    "    \n",
    "    ax.scatter(params_true[:,0], params_estimated[:,0], color ='tab:blue')\n",
    "    ax.scatter(params_true[np.where(params_true[:,1] < 0.5),0], params_estimated[np.where(params_true[:,1] < 0.5),0], color ='tab:orange')\n",
    "    ax.set_xlabel('True Alpha')\n",
    "    ax.set_ylabel('Estimated Alpha')\n",
    "    \n",
    "#fig.legend(bbox_to_anchor =(1.2,0.5), loc='lower right')\n",
    "plt.tight_layout()\n",
    "\n",
    "\n",
    "fig, ax = plt.subplots()\n",
    "\n",
    "for i_beta_true, beta_true in enumerate(params_true[:,1]):\n",
    "    \n",
    "    ax.scatter(params_true[:,1], params_estimated[:,1], color ='tab:blue')\n",
    "    ax.set_xlabel('True Beta')\n",
    "    ax.set_ylabel('Estimated Beta')\n",
    "    \n",
    "#fig.legend(bbox_to_anchor =(1.2,0.5), loc='lower right')\n",
    "plt.tight_layout()"
   ]
  }
 ],
 "metadata": {
  "kernelspec": {
   "display_name": "base",
   "language": "python",
   "name": "python3"
  },
  "language_info": {
   "codemirror_mode": {
    "name": "ipython",
    "version": 3
   },
   "file_extension": ".py",
   "mimetype": "text/x-python",
   "name": "python",
   "nbconvert_exporter": "python",
   "pygments_lexer": "ipython3",
   "version": "3.9.16"
  },
  "vscode": {
   "interpreter": {
    "hash": "6416c7df10b8c5456c78de978d33acaac5ff01a8d01dbc07476359b7504cef45"
   }
  }
 },
 "nbformat": 4,
 "nbformat_minor": 5
}
